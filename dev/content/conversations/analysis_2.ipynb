{
  "cells": [
    {
      "cell_type": "code",
      "execution_count": null,
      "metadata": {
        "vscode": {
          "languageId": "plaintext"
        }
      },
      "outputs": [],
      "source": [
        "# Analysis 2 - Another Test Conversation\n",
        "\n",
        "This is **Analysis 2** - a different conversation. Notice how the iframe completely switches to this notebook!\n"
      ]
    },
    {
      "cell_type": "code",
      "execution_count": null,
      "metadata": {},
      "outputs": [],
      "source": [
        "# Analysis 2 Code  \n",
        "print(\"Welcome to Analysis 2!\")\n",
        "conversation_id = \"analysis_2\"\n",
        "print(f\"Current conversation: {conversation_id}\")\n",
        "\n",
        "# Different content to make switching obvious\n",
        "import random\n",
        "lucky_number = random.randint(1, 100)\n",
        "print(f\"Your lucky number for Analysis 2: {lucky_number}\")\n"
      ]
    }
  ],
  "metadata": {
    "language_info": {
      "name": "python"
    }
  },
  "nbformat": 4,
  "nbformat_minor": 2
}
