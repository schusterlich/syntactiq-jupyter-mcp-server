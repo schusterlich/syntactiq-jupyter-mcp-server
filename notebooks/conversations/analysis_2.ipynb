{
 "cells": [
  {
   "cell_type": "code",
   "execution_count": null,
   "metadata": {
    "vscode": {
     "languageId": "plaintext"
    }
   },
   "outputs": [],
   "source": [
    "# Analysis 2 - Another Test Conversation\n",
    "\n",
    "This is **Analysis 2** - a different conversation. Notice how the iframe completely switches to this notebook!\n"
   ]
  },
  {
   "cell_type": "code",
   "execution_count": null,
   "metadata": {},
   "outputs": [],
   "source": [
    "# Analysis 2 Code  \n",
    "print(\"Welcome to Analysis 2!\")\n",
    "conversation_id = \"analysis_2\"\n",
    "print(f\"Current conversation: {conversation_id}\")\n",
    "\n",
    "# Different content to make switching obvious\n",
    "import random\n",
    "lucky_number = random.randint(1, 100)\n",
    "print(f\"Your lucky number for Analysis 2: {lucky_number}\")\n"
   ]
  },
  {
   "cell_type": "markdown",
   "metadata": {},
   "source": [
    "## Analysis Step\n",
    "This is a new analysis step added via MCP server!"
   ]
  },
  {
   "cell_type": "code",
   "execution_count": 1,
   "metadata": {},
   "outputs": [
    {
     "name": "stdout",
     "output_type": "stream",
     "text": [
      "Random number: 10\n",
      "Hello from MCP server!\n"
     ]
    }
   ],
   "source": [
    "import random\n",
    "result = random.randint(1, 100)\n",
    "print(f\"Random number: {result}\")\n",
    "print(\"Hello from MCP server!\")"
   ]
  },
  {
   "cell_type": "code",
   "execution_count": 1,
   "metadata": {},
   "outputs": [
    {
     "name": "stdout",
     "output_type": "stream",
     "text": [
      "Hello Marc! Boo\n"
     ]
    }
   ],
   "source": [
    "print(\"Hello Marc! Boo\")"
   ]
  },
  {
   "cell_type": "code",
   "execution_count": null,
   "metadata": {},
   "outputs": [],
   "source": []
  }
 ],
 "metadata": {
  "kernelspec": {
   "display_name": "Python 3 (ipykernel)",
   "language": "python",
   "name": "python3"
  },
  "language_info": {
   "codemirror_mode": {
    "name": "ipython",
    "version": 3
   },
   "file_extension": ".py",
   "mimetype": "text/x-python",
   "name": "python",
   "nbconvert_exporter": "python",
   "pygments_lexer": "ipython3",
   "version": "3.11.6"
  }
 },
 "nbformat": 4,
 "nbformat_minor": 2
}
