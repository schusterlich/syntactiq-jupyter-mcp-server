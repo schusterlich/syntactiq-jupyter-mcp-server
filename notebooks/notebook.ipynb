{
 "cells": [
  {
   "cell_type": "markdown",
   "metadata": {},
   "source": [
    "# Jupyter MCP Server Test Notebook\n",
    "\n",
    "This notebook is used to test the Jupyter MCP Server with version-aligned packages.\n",
    "\n",
    "## Available MCP Tools\n",
    "\n",
    "The MCP server provides these tools for notebook interaction:\n",
    "\n",
    "- `get_notebook_info()` - Get basic notebook metadata\n",
    "- `read_all_cells()` - Read all cells in the notebook\n",
    "- `read_cell(index)` - Read a specific cell\n",
    "- `append_execute_code_cell(code)` - Add and execute code\n",
    "- `insert_execute_code_cell(index, code)` - Insert and execute code\n",
    "- `append_markdown_cell(markdown)` - Add markdown content\n",
    "- `execute_cell_with_progress(index)` - Execute with monitoring\n",
    "- `overwrite_cell_source(index, source)` - Modify cell content\n",
    "- `delete_cell(index)` - Remove a cell\n",
    "\n",
    "## Real-time Collaboration\n",
    "\n",
    "This notebook supports real-time collaboration through Y.js CRDTs. Changes made by the MCP server will be visible immediately in this interface.\n"
   ]
  },
  {
   "cell_type": "code",
   "execution_count": 1,
   "metadata": {},
   "outputs": [
    {
     "name": "stdout",
     "output_type": "stream",
     "text": [
      "Python version: 3.11.6 | packaged by conda-forge | (main, Oct  3 2023, 11:57:02) [GCC 12.3.0]\n",
      "🎯 Ready for MCP server testing!\n"
     ]
    }
   ],
   "source": [
    "# Test cell for MCP server interaction\n",
    "import sys\n",
    "print(f\"Python version: {sys.version}\")\n",
    "print(\"🎯 Ready for MCP server testing!\")\n"
   ]
  },
  {
   "cell_type": "code",
   "execution_count": null,
   "metadata": {},
   "outputs": [],
   "source": [
    "# Data science libraries test\n",
    "import pandas as pd\n",
    "import numpy as np\n",
    "import matplotlib.pyplot as plt\n",
    "\n",
    "# Create sample data\n",
    "data = pd.DataFrame({\n",
    "    'x': np.linspace(0, 10, 100),\n",
    "    'y': np.sin(np.linspace(0, 10, 100))\n",
    "})\n",
    "\n",
    "print(f\"Dataset shape: {data.shape}\")\n",
    "print(\"Libraries loaded successfully!\")\n"
   ]
  },
  {
   "cell_type": "markdown",
   "metadata": {},
   "source": [
    "# Jupyter MCP Server Demo\n",
    "\n",
    "This notebook demonstrates the **Jupyter MCP Server** - a Model Context Protocol server that enables AI agents to interact with Jupyter notebooks in real-time.\n",
    "\n",
    "## Available MCP Tools\n",
    "\n",
    "The MCP server provides the following tools for notebook interaction:\n",
    "\n",
    "1. **append_markdown_cell** - Add markdown cells to the notebook\n",
    "2. **insert_markdown_cell** - Insert markdown cells at specific positions  \n",
    "3. **append_execute_code_cell** - Add and execute code cells\n",
    "4. **insert_execute_code_cell** - Insert and execute code cells\n",
    "5. **overwrite_cell_source** - Modify existing cell content\n",
    "6. **read_all_cells** - Read all notebook cells\n",
    "7. **read_cell** - Read specific cells\n",
    "8. **get_notebook_info** - Get notebook metadata\n",
    "9. **delete_cell** - Remove cells from notebook\n",
    "10. **execute_cell_with_progress** - Execute cells with progress monitoring\n",
    "11. **execute_cell_simple_timeout** - Execute cells with timeout\n",
    "12. **execute_cell_streaming** - Execute cells with streaming output\n",
    "\n",
    "## Real-Time Collaboration\n",
    "\n",
    "This notebook supports **real-time collaboration** using Jupyter's Y.js CRDT technology. Multiple users can edit the notebook simultaneously, and the MCP server can interact with it while it's being edited.\n",
    "\n",
    "---\n",
    "\n",
    "*Ready for MCP tool demonstrations!*\n"
   ]
  },
  {
   "cell_type": "markdown",
   "metadata": {
    "vscode": {
     "languageId": "plaintext"
    }
   },
   "source": [
    "# Jupyter MCP Server Demo\n",
    "\n",
    "Welcome to the Jupyter MCP Server! This notebook is connected to an MCP (Model Context Protocol) server that allows AI agents to interact with Jupyter notebooks in real-time.\n",
    "\n",
    "## What can the MCP server do?\n",
    "\n",
    "- 📖 **Read cells**: Examine notebook structure and content\n",
    "- ✏️ **Write cells**: Add new markdown and code cells\n",
    "- ⚡ **Execute code**: Run Python code and capture outputs\n",
    "- 🔄 **Real-time sync**: Changes appear instantly in the notebook\n",
    "\n",
    "## Try it out!\n",
    "\n",
    "Run the demo script to see the MCP server in action:\n",
    "```bash\n",
    "python test_mcp_demo.py\n",
    "```\n"
   ]
  },
  {
   "cell_type": "code",
   "execution_count": 1,
   "metadata": {},
   "outputs": [
    {
     "name": "stdout",
     "output_type": "stream",
     "text": [
      "🪐✨ Jupyter MCP Server Demo\n",
      "This cell is ready for AI agent interaction!\n",
      "Notebook initialized at: 2025-07-21 11:22:09.396938\n"
     ]
    }
   ],
   "source": [
    "# Welcome to the MCP-enabled notebook!\n",
    "print(\"🪐✨ Jupyter MCP Server Demo\")\n",
    "print(\"This cell is ready for AI agent interaction!\")\n",
    "\n",
    "import datetime\n",
    "print(f\"Notebook initialized at: {datetime.datetime.now()}\")\n"
   ]
  },
  {
   "cell_type": "markdown",
   "metadata": {
    "vscode": {
     "languageId": "plaintext"
    }
   },
   "source": [
    "## Available MCP Tools\n",
    "\n",
    "The MCP server provides these tools for notebook interaction:\n",
    "\n",
    "### Information Tools\n",
    "- `get_notebook_info()` - Get basic notebook metadata\n",
    "- `read_all_cells()` - Read all cells in the notebook\n",
    "- `read_cell(index)` - Read a specific cell\n",
    "\n",
    "### Creation Tools\n",
    "- `append_markdown_cell(content)` - Add markdown cell at end\n",
    "- `insert_markdown_cell(index, content)` - Insert markdown at position\n",
    "- `append_execute_code_cell(code)` - Add and execute code cell\n",
    "- `insert_execute_code_cell(index, code)` - Insert and execute code\n",
    "\n",
    "### Modification Tools\n",
    "- `overwrite_cell_source(index, source)` - Modify existing cell\n",
    "- `delete_cell(index)` - Remove a cell\n",
    "\n",
    "### Execution Tools\n",
    "- `execute_cell_with_progress(index, timeout)` - Execute with monitoring\n",
    "- `execute_cell_simple_timeout(index, timeout)` - Simple execution\n",
    "- `execute_cell_streaming(index, timeout, interval)` - Streaming execution\n"
   ]
  },
  {
   "cell_type": "markdown",
   "metadata": {
    "vscode": {
     "languageId": "plaintext"
    }
   },
   "source": [
    "# Jupyter MCP Server Demo\n",
    "\n",
    "Welcome to the Jupyter MCP Server! This notebook is connected to an MCP (Model Context Protocol) server that allows AI agents to interact with Jupyter notebooks in real-time.\n",
    "\n",
    "## What can the MCP server do?\n",
    "\n",
    "- 📖 **Read cells**: Examine notebook structure and content\n",
    "- ✏️ **Write cells**: Add new markdown and code cells\n",
    "- ⚡ **Execute code**: Run Python code and capture outputs\n",
    "- 🔄 **Real-time sync**: Changes appear instantly in the notebook\n",
    "\n",
    "## Try it out!\n",
    "\n",
    "Run the demo script to see the MCP server in action:\n",
    "```bash\n",
    "python test_mcp_demo.py\n",
    "```\n"
   ]
  },
  {
   "cell_type": "code",
   "execution_count": 1,
   "metadata": {},
   "outputs": [
    {
     "name": "stdout",
     "output_type": "stream",
     "text": [
      "🪐✨ Jupyter MCP Server Demo\n",
      "This cell is ready for AI agent interaction!\n",
      "Notebook initialized at: 2025-07-21 11:54:09.224530\n"
     ]
    }
   ],
   "source": [
    "# Welcome to the MCP-enabled notebook!\n",
    "print(\"🪐✨ Jupyter MCP Server Demo\")\n",
    "print(\"This cell is ready for AI agent interaction!\")\n",
    "\n",
    "import datetime\n",
    "print(f\"Notebook initialized at: {datetime.datetime.now()}\")\n"
   ]
  },
  {
   "cell_type": "code",
   "execution_count": null,
   "metadata": {},
   "outputs": [],
   "source": [
    "## Available MCP Tools\n",
    "\n",
    "The MCP server provides these tools for notebook interaction:\n",
    "\n",
    "### Information Tools\n",
    "- `get_notebook_info()` - Get basic notebook metadata\n",
    "- `read_all_cells()` - Read all cells in the notebook\n",
    "- `read_cell(index)` - Read a specific cell\n",
    "\n",
    "### Creation Tools\n",
    "- `append_markdown_cell(content)` - Add markdown cell at end\n",
    "- `insert_markdown_cell(index, content)` - Insert markdown at position\n",
    "- `append_execute_code_cell(code)` - Add and execute code cell\n",
    "- `insert_execute_code_cell(index, code)` - Insert and execute code\n",
    "\n",
    "### Modification Tools\n",
    "- `overwrite_cell_source(index, source)` - Modify existing cell\n",
    "- `delete_cell(index)` - Remove a cell\n",
    "\n",
    "### Execution Tools\n",
    "- `execute_cell_with_progress(index, timeout)` - Execute with monitoring\n",
    "- `execute_cell_simple_timeout(index, timeout)` - Simple execution\n",
    "- `execute_cell_streaming(index, timeout, interval)` - Streaming execution\n"
   ]
  },
  {
   "cell_type": "markdown",
   "metadata": {},
   "source": [
    "## MCP Server Test Results\n",
    "\n",
    "This cell was added by the MCP server! 🎉\n",
    "\n",
    "The server can:\n",
    "- ✅ Read notebook structure\n",
    "- ✅ Add markdown cells  \n",
    "- ✅ Execute Python code\n",
    "- ✅ Monitor execution progress\n"
   ]
  },
  {
   "cell_type": "code",
   "execution_count": 1,
   "metadata": {},
   "outputs": [
    {
     "name": "stdout",
     "output_type": "stream",
     "text": [
      "🔬 MCP Server Execution Test\n",
      "⏰ Current time: 2025-07-21 11:54:19.318085\n",
      "🐍 Python version: 3.11.6\n",
      "💻 Platform: Linux 6.10.14-linuxkit\n"
     ]
    },
    {
     "name": "stdout",
     "output_type": "stream",
     "text": [
      "📊 Generated sample data with 10 rows\n",
      "✅ MCP Server execution completed successfully!\n"
     ]
    }
   ],
   "source": [
    "\n",
    "# MCP Server Code Execution Demo\n",
    "import datetime\n",
    "import platform\n",
    "\n",
    "print(\"🔬 MCP Server Execution Test\")\n",
    "print(f\"⏰ Current time: {datetime.datetime.now()}\")\n",
    "print(f\"🐍 Python version: {platform.python_version()}\")\n",
    "print(f\"💻 Platform: {platform.system()} {platform.release()}\")\n",
    "\n",
    "# Test data analysis\n",
    "import pandas as pd\n",
    "import numpy as np\n",
    "\n",
    "data = pd.DataFrame({\n",
    "    'x': np.random.randn(10),\n",
    "    'y': np.random.randn(10)\n",
    "})\n",
    "\n",
    "print(f\"📊 Generated sample data with {len(data)} rows\")\n",
    "print(\"✅ MCP Server execution completed successfully!\")\n"
   ]
  },
  {
   "cell_type": "code",
   "execution_count": 2,
   "metadata": {},
   "outputs": [
    {
     "name": "stdout",
     "output_type": "stream",
     "text": [
      "🚀 Starting long-running task...\n",
      "⏳ Step 1/5: Processing...\n"
     ]
    },
    {
     "name": "stdout",
     "output_type": "stream",
     "text": [
      "   Generated sum: 50857\n",
      "⏳ Step 2/5: Processing...\n"
     ]
    },
    {
     "name": "stdout",
     "output_type": "stream",
     "text": [
      "   Generated sum: 51632\n",
      "⏳ Step 3/5: Processing...\n"
     ]
    },
    {
     "name": "stdout",
     "output_type": "stream",
     "text": [
      "   Generated sum: 49434\n",
      "⏳ Step 4/5: Processing...\n"
     ]
    },
    {
     "name": "stdout",
     "output_type": "stream",
     "text": [
      "   Generated sum: 50136\n",
      "⏳ Step 5/5: Processing...\n"
     ]
    },
    {
     "name": "stdout",
     "output_type": "stream",
     "text": [
      "   Generated sum: 49475\n",
      "🎯 Task completed successfully!\n"
     ]
    }
   ],
   "source": [
    "\n",
    "# Long-running task simulation\n",
    "import time\n",
    "import random\n",
    "\n",
    "print(\"🚀 Starting long-running task...\")\n",
    "\n",
    "for i in range(5):\n",
    "    print(f\"⏳ Step {i+1}/5: Processing...\")\n",
    "    time.sleep(1)  # Simulate work\n",
    "    \n",
    "    # Generate some random data\n",
    "    result = sum(random.randint(1, 100) for _ in range(1000))\n",
    "    print(f\"   Generated sum: {result}\")\n",
    "\n",
    "print(\"🎯 Task completed successfully!\")\n"
   ]
  },
  {
   "cell_type": "markdown",
   "metadata": {},
   "source": [
    "## MCP Server Test Results\n",
    "\n",
    "This cell was added by the MCP server! 🎉\n",
    "\n",
    "The server can:\n",
    "- ✅ Read notebook structure\n",
    "- ✅ Add markdown cells  \n",
    "- ✅ Execute Python code\n",
    "- ✅ Monitor execution progress\n"
   ]
  },
  {
   "cell_type": "code",
   "execution_count": 1,
   "metadata": {},
   "outputs": [
    {
     "name": "stdout",
     "output_type": "stream",
     "text": [
      "🔬 MCP Server Execution Test\n",
      "⏰ Current time: 2025-07-21 11:59:16.595736\n",
      "🐍 Python version: 3.11.6\n",
      "💻 Platform: Linux 6.10.14-linuxkit\n",
      "📊 Generated sample data with 10 rows\n",
      "✅ MCP Server execution completed successfully!\n"
     ]
    }
   ],
   "source": [
    "\n",
    "# MCP Server Code Execution Demo\n",
    "import datetime\n",
    "import platform\n",
    "\n",
    "print(\"🔬 MCP Server Execution Test\")\n",
    "print(f\"⏰ Current time: {datetime.datetime.now()}\")\n",
    "print(f\"🐍 Python version: {platform.python_version()}\")\n",
    "print(f\"💻 Platform: {platform.system()} {platform.release()}\")\n",
    "\n",
    "# Test data analysis\n",
    "import pandas as pd\n",
    "import numpy as np\n",
    "\n",
    "data = pd.DataFrame({\n",
    "    'x': np.random.randn(10),\n",
    "    'y': np.random.randn(10)\n",
    "})\n",
    "\n",
    "print(f\"📊 Generated sample data with {len(data)} rows\")\n",
    "print(\"✅ MCP Server execution completed successfully!\")\n"
   ]
  },
  {
   "cell_type": "code",
   "execution_count": 2,
   "metadata": {},
   "outputs": [
    {
     "name": "stdout",
     "output_type": "stream",
     "text": [
      "🚀 Starting long-running task...\n",
      "⏳ Step 1/5: Processing...\n"
     ]
    },
    {
     "name": "stdout",
     "output_type": "stream",
     "text": [
      "   Generated sum: 51545\n",
      "⏳ Step 2/5: Processing...\n"
     ]
    },
    {
     "name": "stdout",
     "output_type": "stream",
     "text": [
      "   Generated sum: 49965\n",
      "⏳ Step 3/5: Processing...\n"
     ]
    },
    {
     "name": "stdout",
     "output_type": "stream",
     "text": [
      "   Generated sum: 50476\n",
      "⏳ Step 4/5: Processing...\n"
     ]
    },
    {
     "name": "stdout",
     "output_type": "stream",
     "text": [
      "   Generated sum: 51719\n",
      "⏳ Step 5/5: Processing...\n"
     ]
    },
    {
     "name": "stdout",
     "output_type": "stream",
     "text": [
      "   Generated sum: 50952\n",
      "🎯 Task completed successfully!\n"
     ]
    }
   ],
   "source": [
    "\n",
    "# Long-running task simulation\n",
    "import time\n",
    "import random\n",
    "\n",
    "print(\"🚀 Starting long-running task...\")\n",
    "\n",
    "for i in range(5):\n",
    "    print(f\"⏳ Step {i+1}/5: Processing...\")\n",
    "    time.sleep(1)  # Simulate work\n",
    "    \n",
    "    # Generate some random data\n",
    "    result = sum(random.randint(1, 100) for _ in range(1000))\n",
    "    print(f\"   Generated sum: {result}\")\n",
    "\n",
    "print(\"🎯 Task completed successfully!\")\n"
   ]
  }
 ],
 "metadata": {
  "kernelspec": {
   "display_name": "Python 3 (ipykernel)",
   "language": "python",
   "name": "python3"
  },
  "language_info": {
   "codemirror_mode": {
    "name": "ipython",
    "version": 3
   },
   "file_extension": ".py",
   "mimetype": "text/x-python",
   "name": "python",
   "nbconvert_exporter": "python",
   "pygments_lexer": "ipython3",
   "version": "3.11.6"
  }
 },
 "nbformat": 4,
 "nbformat_minor": 4
}
