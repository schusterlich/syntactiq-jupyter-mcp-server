{
 "cells": [
  {
   "cell_type": "code",
   "execution_count": null,
   "metadata": {},
   "outputs": [],
   "source": []
  },
  {
   "cell_type": "markdown",
   "metadata": {},
   "source": [
    "### Inserted Test wgwdtn8c\n",
    "\n",
    "This cell was inserted at position 1."
   ]
  },
  {
   "cell_type": "markdown",
   "metadata": {},
   "source": [
    "### Inserted Test tb7i288e\n",
    "\n",
    "This cell was inserted at position 1."
   ]
  },
  {
   "cell_type": "markdown",
   "metadata": {},
   "source": [
    "# Test Markdown Cell tb7i288e\n",
    "\n",
    "This is a **test** markdown cell created by automated testing."
   ]
  },
  {
   "cell_type": "markdown",
   "metadata": {},
   "source": [
    "## Special Test tb7i288e\n",
    "\n",
    "- List item with `code`\n",
    "- **Bold** and *italic*\n",
    "- [Link](https://example.com)\n",
    "\n",
    "```python\n",
    "print('hello')\n",
    "```"
   ]
  },
  {
   "cell_type": "code",
   "execution_count": 1,
   "metadata": {},
   "outputs": [
    {
     "name": "stdout",
     "output_type": "stream",
     "text": [
      "Hello from test d0hqatgx\n",
      "2 + 2 = 4\n"
     ]
    }
   ],
   "source": [
    "# Test d0hqatgx\n",
    "print('Hello from test d0hqatgx')\n",
    "result = 2 + 2\n",
    "print(f'2 + 2 = {result}')"
   ]
  },
  {
   "cell_type": "code",
   "execution_count": 2,
   "metadata": {},
   "outputs": [
    {
     "name": "stdout",
     "output_type": "stream",
     "text": [
      "Original: [1, 2, 3, 4, 5]\n",
      "Squared: [1, 4, 9, 16, 25]\n",
      "Sum of squares: 55\n",
      "Square root of 16: 4.0\n",
      "Current time: 21:07:24\n"
     ]
    }
   ],
   "source": [
    "\n",
    "import math\n",
    "import datetime\n",
    "\n",
    "# Test computation d0hqatgx\n",
    "numbers = [1, 2, 3, 4, 5]\n",
    "squared = [x**2 for x in numbers]\n",
    "print(f\"Original: {numbers}\")\n",
    "print(f\"Squared: {squared}\")\n",
    "print(f\"Sum of squares: {sum(squared)}\")\n",
    "print(f\"Square root of 16: {math.sqrt(16)}\")\n",
    "print(f\"Current time: {datetime.datetime.now().strftime('%H:%M:%S')}\")\n"
   ]
  },
  {
   "cell_type": "code",
   "execution_count": 3,
   "metadata": {},
   "outputs": [
    {
     "name": "stdout",
     "output_type": "stream",
     "text": [
      "Loop 0: test d0hqatgx\n",
      "Loop 1: test d0hqatgx\n",
      "Loop 2: test d0hqatgx\n"
     ]
    }
   ],
   "source": [
    "# Inserted code test d0hqatgx\n",
    "for i in range(3):\n",
    "    print(f'Loop {i}: test d0hqatgx')"
   ]
  },
  {
   "cell_type": "code",
   "execution_count": 5,
   "metadata": {},
   "outputs": [
    {
     "name": "stdout",
     "output_type": "stream",
     "text": [
      "Starting execution test\n"
     ]
    },
    {
     "name": "stdout",
     "output_type": "stream",
     "text": [
      "Test completed\n",
      "Final result: 42\n"
     ]
    }
   ],
   "source": [
    "# Execution test yhmwpf53\n",
    "import time\n",
    "print('Starting execution test')\n",
    "time.sleep(1)\n",
    "print('Test completed')\n",
    "result = 42\n",
    "print(f'Final result: {result}')"
   ]
  },
  {
   "cell_type": "code",
   "execution_count": 7,
   "metadata": {},
   "outputs": [
    {
     "name": "stdout",
     "output_type": "stream",
     "text": [
      "Quick test yhmwpf53\n"
     ]
    }
   ],
   "source": [
    "print('Quick test yhmwpf53')"
   ]
  },
  {
   "cell_type": "code",
   "execution_count": 31,
   "metadata": {},
   "outputs": [
    {
     "ename": "SyntaxError",
     "evalue": "unterminated string literal (detected at line 1) (3289855380.py, line 1)",
     "output_type": "error",
     "traceback": [
      "\u001b[0;36m  Cell \u001b[0;32mIn[31], line 1\u001b[0;36m\u001b[0m\n\u001b[0;31m    print('missing quote)\u001b[0m\n\u001b[0m          ^\u001b[0m\n\u001b[0;31mSyntaxError\u001b[0m\u001b[0;31m:\u001b[0m unterminated string literal (detected at line 1)\n"
     ]
    }
   ],
   "source": [
    "print('missing quote)"
   ]
  },
  {
   "cell_type": "code",
   "execution_count": 32,
   "metadata": {},
   "outputs": [
    {
     "ename": "ZeroDivisionError",
     "evalue": "division by zero",
     "output_type": "error",
     "traceback": [
      "\u001b[0;31m---------------------------------------------------------------------------\u001b[0m",
      "\u001b[0;31mZeroDivisionError\u001b[0m                         Traceback (most recent call last)",
      "Cell \u001b[0;32mIn[32], line 1\u001b[0m\n\u001b[0;32m----> 1\u001b[0m x \u001b[38;5;241m=\u001b[39m \u001b[38;5;241;43m1\u001b[39;49m\u001b[38;5;241;43m/\u001b[39;49m\u001b[38;5;241;43m0\u001b[39;49m\n",
      "\u001b[0;31mZeroDivisionError\u001b[0m: division by zero"
     ]
    }
   ],
   "source": [
    "x = 1/0"
   ]
  },
  {
   "cell_type": "code",
   "execution_count": 33,
   "metadata": {},
   "outputs": [
    {
     "name": "stderr",
     "output_type": "stream",
     "text": [
      "/tmp/ipykernel_42/937809747.py:1: UserWarning: This is a test warning\n",
      "  import warnings; warnings.warn('This is a test warning')\n"
     ]
    }
   ],
   "source": [
    "import warnings; warnings.warn('This is a test warning')"
   ]
  },
  {
   "cell_type": "code",
   "execution_count": 34,
   "metadata": {},
   "outputs": [
    {
     "name": "stdout",
     "output_type": "stream",
     "text": [
      "Hello World\n",
      "Result: 4\n"
     ]
    }
   ],
   "source": [
    "print('Hello World'); result = 2+2; print(f'Result: {result}')"
   ]
  },
  {
   "cell_type": "code",
   "execution_count": 1,
   "metadata": {},
   "outputs": [
    {
     "ename": "SyntaxError",
     "evalue": "unterminated string literal (detected at line 1) (3289855380.py, line 1)",
     "output_type": "error",
     "traceback": [
      "\u001b[0;36m  Cell \u001b[0;32mIn[1], line 1\u001b[0;36m\u001b[0m\n\u001b[0;31m    print('missing quote)\u001b[0m\n\u001b[0m          ^\u001b[0m\n\u001b[0;31mSyntaxError\u001b[0m\u001b[0;31m:\u001b[0m unterminated string literal (detected at line 1)\n"
     ]
    }
   ],
   "source": [
    "print('missing quote)"
   ]
  },
  {
   "cell_type": "code",
   "execution_count": 2,
   "metadata": {},
   "outputs": [
    {
     "ename": "ZeroDivisionError",
     "evalue": "division by zero",
     "output_type": "error",
     "traceback": [
      "\u001b[0;31m---------------------------------------------------------------------------\u001b[0m",
      "\u001b[0;31mZeroDivisionError\u001b[0m                         Traceback (most recent call last)",
      "Cell \u001b[0;32mIn[2], line 1\u001b[0m\n\u001b[0;32m----> 1\u001b[0m x \u001b[38;5;241m=\u001b[39m \u001b[38;5;241;43m1\u001b[39;49m\u001b[38;5;241;43m/\u001b[39;49m\u001b[38;5;241;43m0\u001b[39;49m\n",
      "\u001b[0;31mZeroDivisionError\u001b[0m: division by zero"
     ]
    }
   ],
   "source": [
    "x = 1/0"
   ]
  },
  {
   "cell_type": "code",
   "execution_count": 3,
   "metadata": {},
   "outputs": [
    {
     "name": "stderr",
     "output_type": "stream",
     "text": [
      "/tmp/ipykernel_41/289858221.py:1: UserWarning: Test warning\n",
      "  import warnings; warnings.warn(\"Test warning\")\n"
     ]
    }
   ],
   "source": [
    "import warnings; warnings.warn(\"Test warning\")"
   ]
  },
  {
   "cell_type": "code",
   "execution_count": 4,
   "metadata": {},
   "outputs": [
    {
     "name": "stdout",
     "output_type": "stream",
     "text": [
      "Hello World\n",
      "Result: 4\n"
     ]
    }
   ],
   "source": [
    "print(\"Hello World\"); result = 2+2; print(f\"Result: {result}\")"
   ]
  },
  {
   "cell_type": "code",
   "execution_count": 1,
   "metadata": {},
   "outputs": [
    {
     "ename": "SyntaxError",
     "evalue": "unterminated string literal (detected at line 1) (2838698879.py, line 1)",
     "output_type": "error",
     "traceback": [
      "\u001b[0;36m  Cell \u001b[0;32mIn[1], line 1\u001b[0;36m\u001b[0m\n\u001b[0;31m    print('syntax error)\u001b[0m\n\u001b[0m          ^\u001b[0m\n\u001b[0;31mSyntaxError\u001b[0m\u001b[0;31m:\u001b[0m unterminated string literal (detected at line 1)\n"
     ]
    }
   ],
   "source": [
    "print('syntax error)"
   ]
  },
  {
   "cell_type": "code",
   "execution_count": 2,
   "metadata": {},
   "outputs": [
    {
     "name": "stderr",
     "output_type": "stream",
     "text": [
      "/tmp/ipykernel_44/1623271607.py:1: UserWarning: test\n",
      "  import warnings; warnings.warn(\"test\")\n"
     ]
    }
   ],
   "source": [
    "import warnings; warnings.warn(\"test\")"
   ]
  },
  {
   "cell_type": "code",
   "execution_count": 3,
   "metadata": {},
   "outputs": [
    {
     "name": "stdout",
     "output_type": "stream",
     "text": [
      "Hello World\n"
     ]
    }
   ],
   "source": [
    "print(\"Hello World\")"
   ]
  },
  {
   "cell_type": "markdown",
   "metadata": {},
   "source": [
    "# Test Markdown Cell wgwdtn8c\n",
    "\n",
    "This is a **test** markdown cell created by automated testing."
   ]
  },
  {
   "cell_type": "markdown",
   "metadata": {},
   "source": [
    "## Special Test wgwdtn8c\n",
    "\n",
    "- List item with `code`\n",
    "- **Bold** and *italic*\n",
    "- [Link](https://example.com)\n",
    "\n",
    "```python\n",
    "print('hello')\n",
    "```"
   ]
  },
  {
   "cell_type": "code",
   "execution_count": 1,
   "metadata": {},
   "outputs": [
    {
     "name": "stdout",
     "output_type": "stream",
     "text": [
      "Hello from test krlknmgl\n",
      "2 + 2 = 4\n"
     ]
    }
   ],
   "source": [
    "# Test krlknmgl\n",
    "print('Hello from test krlknmgl')\n",
    "result = 2 + 2\n",
    "print(f'2 + 2 = {result}')"
   ]
  },
  {
   "cell_type": "code",
   "execution_count": 2,
   "metadata": {},
   "outputs": [
    {
     "name": "stdout",
     "output_type": "stream",
     "text": [
      "Original: [1, 2, 3, 4, 5]\n",
      "Squared: [1, 4, 9, 16, 25]\n",
      "Sum of squares: 55\n",
      "Square root of 16: 4.0\n",
      "Current time: 07:27:33\n"
     ]
    }
   ],
   "source": [
    "\n",
    "import math\n",
    "import datetime\n",
    "\n",
    "# Test computation krlknmgl\n",
    "numbers = [1, 2, 3, 4, 5]\n",
    "squared = [x**2 for x in numbers]\n",
    "print(f\"Original: {numbers}\")\n",
    "print(f\"Squared: {squared}\")\n",
    "print(f\"Sum of squares: {sum(squared)}\")\n",
    "print(f\"Square root of 16: {math.sqrt(16)}\")\n",
    "print(f\"Current time: {datetime.datetime.now().strftime('%H:%M:%S')}\")\n"
   ]
  },
  {
   "cell_type": "code",
   "execution_count": 3,
   "metadata": {},
   "outputs": [
    {
     "name": "stdout",
     "output_type": "stream",
     "text": [
      "Loop 0: test krlknmgl\n",
      "Loop 1: test krlknmgl\n",
      "Loop 2: test krlknmgl\n"
     ]
    }
   ],
   "source": [
    "# Inserted code test krlknmgl\n",
    "for i in range(3):\n",
    "    print(f'Loop {i}: test krlknmgl')"
   ]
  },
  {
   "cell_type": "code",
   "execution_count": 5,
   "metadata": {},
   "outputs": [
    {
     "name": "stdout",
     "output_type": "stream",
     "text": [
      "Starting execution test\n"
     ]
    },
    {
     "name": "stdout",
     "output_type": "stream",
     "text": [
      "Test completed\n",
      "Final result: 42\n"
     ]
    }
   ],
   "source": [
    "# Execution test zjo0gr9o\n",
    "import time\n",
    "print('Starting execution test')\n",
    "time.sleep(1)\n",
    "print('Test completed')\n",
    "result = 42\n",
    "print(f'Final result: {result}')"
   ]
  },
  {
   "cell_type": "code",
   "execution_count": 7,
   "metadata": {},
   "outputs": [
    {
     "name": "stdout",
     "output_type": "stream",
     "text": [
      "Quick test zjo0gr9o\n"
     ]
    }
   ],
   "source": [
    "print('Quick test zjo0gr9o')"
   ]
  }
 ],
 "metadata": {
  "kernelspec": {
   "display_name": "Python 3 (ipykernel)",
   "language": "python",
   "name": "python3"
  },
  "language_info": {
   "codemirror_mode": {
    "name": "ipython",
    "version": 3
   },
   "file_extension": ".py",
   "mimetype": "text/x-python",
   "name": "python",
   "nbconvert_exporter": "python",
   "pygments_lexer": "ipython3",
   "version": "3.10.11"
  }
 },
 "nbformat": 4,
 "nbformat_minor": 4
}
