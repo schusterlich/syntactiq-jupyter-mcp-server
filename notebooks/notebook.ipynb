{
 "cells": [
  {
   "cell_type": "markdown",
   "metadata": {},
   "source": [
    "# Jupyter MCP Server Test Notebook\n",
    "\n",
    "This notebook is used to test the Jupyter MCP Server with version-aligned packages.\n",
    "\n",
    "## Available MCP Tools\n",
    "\n",
    "The MCP server provides these tools for notebook interaction:\n",
    "\n",
    "- `get_notebook_info()` - Get basic notebook metadata\n",
    "- `read_all_cells()` - Read all cells in the notebook\n",
    "- `read_cell(index)` - Read a specific cell\n",
    "- `append_execute_code_cell(code)` - Add and execute code\n",
    "- `insert_execute_code_cell(index, code)` - Insert and execute code\n",
    "- `append_markdown_cell(markdown)` - Add markdown content\n",
    "- `execute_cell_with_progress(index)` - Execute with monitoring\n",
    "- `overwrite_cell_source(index, source)` - Modify cell content\n",
    "- `delete_cell(index)` - Remove a cell\n",
    "\n",
    "## Real-time Collaboration\n",
    "\n",
    "This notebook supports real-time collaboration through Y.js CRDTs. Changes made by the MCP server will be visible immediately in this interface.\n"
   ]
  },
  {
   "cell_type": "markdown",
   "metadata": {},
   "source": [
    "### Inserted Test zyxg3ijm\n",
    "\n",
    "This cell was inserted at position 1."
   ]
  },
  {
   "cell_type": "code",
   "execution_count": 3,
   "metadata": {},
   "outputs": [
    {
     "name": "stdout",
     "output_type": "stream",
     "text": [
      "Loop 0: test zpo4zvau\n",
      "Loop 1: test zpo4zvau\n",
      "Loop 2: test zpo4zvau\n"
     ]
    }
   ],
   "source": [
    "# Inserted code test zpo4zvau\n",
    "for i in range(3):\n",
    "    print(f'Loop {i}: test zpo4zvau')"
   ]
  },
  {
   "cell_type": "markdown",
   "metadata": {},
   "source": [
    "# Jupyter MCP Server Demo\n",
    "\n",
    "This notebook demonstrates the **Jupyter MCP Server** - a Model Context Protocol server that enables AI agents to interact with Jupyter notebooks in real-time.\n",
    "\n",
    "## Available MCP Tools\n",
    "\n",
    "The MCP server provides the following tools for notebook interaction:\n",
    "\n",
    "1. **append_markdown_cell** - Add markdown cells to the notebook\n",
    "2. **insert_markdown_cell** - Insert markdown cells at specific positions  \n",
    "3. **append_execute_code_cell** - Add and execute code cells\n",
    "4. **insert_execute_code_cell** - Insert and execute code cells\n",
    "5. **overwrite_cell_source** - Modify existing cell content\n",
    "6. **read_all_cells** - Read all notebook cells\n",
    "7. **read_cell** - Read specific cells\n",
    "8. **get_notebook_info** - Get notebook metadata\n",
    "9. **delete_cell** - Remove cells from notebook\n",
    "10. **execute_cell_with_progress** - Execute cells with progress monitoring\n",
    "11. **execute_cell_simple_timeout** - Execute cells with timeout\n",
    "12. **execute_cell_streaming** - Execute cells with streaming output\n",
    "\n",
    "## Real-Time Collaboration\n",
    "\n",
    "This notebook supports **real-time collaboration** using Jupyter's Y.js CRDT technology. Multiple users can edit the notebook simultaneously, and the MCP server can interact with it while it's being edited.\n",
    "\n",
    "---\n",
    "\n",
    "*Ready for MCP tool demonstrations!*\n"
   ]
  },
  {
   "cell_type": "markdown",
   "metadata": {},
   "source": [
    "## MCP Server Test Results\n",
    "\n",
    "This cell was added by the MCP server! 🎉\n",
    "\n",
    "The server can:\n",
    "- ✅ Read notebook information and cell content\n",
    "- ✅ Add new markdown and code cells\n",
    "- ✅ Execute code with real-time output capture\n",
    "- ✅ List and discover all notebooks in workspace\n",
    "- ✅ Create new notebooks with automatic session creation\n",
    "- ✅ Switch context between different notebooks\n",
    "- ✅ Provide direct browser URLs for easy opening\n",
    "\n",
    "### 🚀 Enhanced Features:\n",
    "- **Workspace Discovery**: Find all .ipynb files automatically\n",
    "- **Smart Creation**: New notebooks + Jupyter sessions + MCP context switching\n",
    "- **Enhanced Opening**: Direct URLs with authentication tokens\n",
    "- **Full Manipulation**: Complete CRUD operations on notebook cells\n",
    "\n",
    "**Status**: All comprehensive notebook management requirements fulfilled! 🎯\n"
   ]
  },
  {
   "cell_type": "code",
   "execution_count": 1,
   "metadata": {},
   "outputs": [
    {
     "name": "stdout",
     "output_type": "stream",
     "text": [
      "🔬 MCP Server Execution Test\n",
      "⏰ Current time: 2025-07-21 18:15:39.858367\n",
      "🐍 Python version: 3.11.6\n",
      "💻 Platform: Linux 6.10.14-linuxkit\n",
      "📊 Generated sample data with 10 rows\n",
      "✅ MCP Server execution completed successfully!\n"
     ]
    }
   ],
   "source": [
    "\n",
    "# MCP Server Code Execution Demo\n",
    "import datetime\n",
    "import platform\n",
    "\n",
    "print(\"🔬 MCP Server Execution Test\")\n",
    "print(f\"⏰ Current time: {datetime.datetime.now()}\")\n",
    "print(f\"🐍 Python version: {platform.python_version()}\")\n",
    "print(f\"💻 Platform: {platform.system()} {platform.release()}\")\n",
    "\n",
    "# Generate some sample data to demonstrate capabilities\n",
    "import random\n",
    "data = [random.randint(1, 100) for _ in range(10)]\n",
    "print(f\"📊 Generated sample data with {len(data)} rows\")\n",
    "print(\"✅ MCP Server execution completed successfully!\")\n"
   ]
  },
  {
   "cell_type": "code",
   "execution_count": 2,
   "metadata": {},
   "outputs": [
    {
     "name": "stdout",
     "output_type": "stream",
     "text": [
      "🚀 Starting long-running task...\n",
      "⏳ Step 1/5: Processing...\n",
      "Generated sum: 4996858\n"
     ]
    },
    {
     "name": "stdout",
     "output_type": "stream",
     "text": [
      "⏳ Step 2/5: Processing...\n",
      "Generated sum: 4978333\n"
     ]
    },
    {
     "name": "stdout",
     "output_type": "stream",
     "text": [
      "⏳ Step 3/5: Processing...\n",
      "Generated sum: 5011133\n"
     ]
    },
    {
     "name": "stdout",
     "output_type": "stream",
     "text": [
      "⏳ Step 4/5: Processing...\n",
      "Generated sum: 4982790\n"
     ]
    },
    {
     "name": "stdout",
     "output_type": "stream",
     "text": [
      "⏳ Step 5/5: Processing...\n",
      "Generated sum: 5039188\n"
     ]
    },
    {
     "name": "stdout",
     "output_type": "stream",
     "text": [
      "🎯 Task completed successfully!\n"
     ]
    }
   ],
   "source": [
    "\n",
    "# Long-running task simulation\n",
    "import time\n",
    "import random\n",
    "\n",
    "print(\"🚀 Starting long-running task...\")\n",
    "\n",
    "for step in range(1, 6):\n",
    "    print(f\"⏳ Step {step}/5: Processing...\")\n",
    "    \n",
    "    # Simulate work with random computation\n",
    "    result = sum(random.randint(1, 1000) for _ in range(10000))\n",
    "    print(f\"Generated sum: {result}\")\n",
    "    \n",
    "    # Small delay to simulate work\n",
    "    time.sleep(1)\n",
    "\n",
    "print(\"🎯 Task completed successfully!\")\n"
   ]
  },
  {
   "cell_type": "markdown",
   "metadata": {},
   "source": [
    "## Markdown Cells\n",
    "# This works!"
   ]
  },
  {
   "cell_type": "markdown",
   "metadata": {},
   "source": [
    "# Test Markdown Cell zyxg3ijm\n",
    "\n",
    "This is a **test** markdown cell created by automated testing."
   ]
  },
  {
   "cell_type": "markdown",
   "metadata": {},
   "source": [
    "## Special Test zyxg3ijm\n",
    "\n",
    "- List item with `code`\n",
    "- **Bold** and *italic*\n",
    "- [Link](https://example.com)\n",
    "\n",
    "```python\n",
    "print('hello')\n",
    "```"
   ]
  },
  {
   "cell_type": "code",
   "execution_count": 1,
   "metadata": {},
   "outputs": [
    {
     "name": "stdout",
     "output_type": "stream",
     "text": [
      "Hello from test zpo4zvau\n",
      "2 + 2 = 4\n"
     ]
    }
   ],
   "source": [
    "# Test zpo4zvau\n",
    "print('Hello from test zpo4zvau')\n",
    "result = 2 + 2\n",
    "print(f'2 + 2 = {result}')"
   ]
  },
  {
   "cell_type": "code",
   "execution_count": 2,
   "metadata": {},
   "outputs": [
    {
     "name": "stdout",
     "output_type": "stream",
     "text": [
      "Original: [1, 2, 3, 4, 5]\n",
      "Squared: [1, 4, 9, 16, 25]\n",
      "Sum of squares: 55\n",
      "Square root of 16: 4.0\n",
      "Current time: 18:32:14\n"
     ]
    }
   ],
   "source": [
    "\n",
    "import math\n",
    "import datetime\n",
    "\n",
    "# Test computation zpo4zvau\n",
    "numbers = [1, 2, 3, 4, 5]\n",
    "squared = [x**2 for x in numbers]\n",
    "print(f\"Original: {numbers}\")\n",
    "print(f\"Squared: {squared}\")\n",
    "print(f\"Sum of squares: {sum(squared)}\")\n",
    "print(f\"Square root of 16: {math.sqrt(16)}\")\n",
    "print(f\"Current time: {datetime.datetime.now().strftime('%H:%M:%S')}\")\n"
   ]
  },
  {
   "cell_type": "code",
   "execution_count": 5,
   "metadata": {},
   "outputs": [
    {
     "name": "stdout",
     "output_type": "stream",
     "text": [
      "Starting execution test\n"
     ]
    },
    {
     "name": "stdout",
     "output_type": "stream",
     "text": [
      "Test completed\n",
      "Final result: 42\n"
     ]
    }
   ],
   "source": [
    "# Execution test bpui5tvg\n",
    "import time\n",
    "print('Starting execution test')\n",
    "time.sleep(1)\n",
    "print('Test completed')\n",
    "result = 42\n",
    "print(f'Final result: {result}')"
   ]
  },
  {
   "cell_type": "code",
   "execution_count": 7,
   "metadata": {},
   "outputs": [
    {
     "name": "stdout",
     "output_type": "stream",
     "text": [
      "Quick test bpui5tvg\n"
     ]
    }
   ],
   "source": [
    "print('Quick test bpui5tvg')"
   ]
  }
 ],
 "metadata": {
  "kernelspec": {
   "display_name": "Python 3 (ipykernel)",
   "language": "python",
   "name": "python3"
  },
  "language_info": {
   "codemirror_mode": {
    "name": "ipython",
    "version": 3
   },
   "file_extension": ".py",
   "mimetype": "text/x-python",
   "name": "python",
   "nbconvert_exporter": "python",
   "pygments_lexer": "ipython3",
   "version": "3.11.6"
  }
 },
 "nbformat": 4,
 "nbformat_minor": 4
}
