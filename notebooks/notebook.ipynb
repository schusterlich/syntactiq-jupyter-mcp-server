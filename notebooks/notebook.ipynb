{
 "cells": [
  {
   "cell_type": "markdown",
   "metadata": {},
   "source": [
    "# Jupyter MCP Server Test Notebook\n",
    "\n",
    "This notebook is used to test the Jupyter MCP Server with version-aligned packages.\n",
    "\n",
    "## Available MCP Tools\n",
    "\n",
    "The MCP server provides these tools for notebook interaction:\n",
    "\n",
    "- `get_notebook_info()` - Get basic notebook metadata\n",
    "- `read_all_cells()` - Read all cells in the notebook\n",
    "- `read_cell(index)` - Read a specific cell\n",
    "- `append_execute_code_cell(code)` - Add and execute code\n",
    "- `insert_execute_code_cell(index, code)` - Insert and execute code\n",
    "- `append_markdown_cell(markdown)` - Add markdown content\n",
    "- `execute_cell_with_progress(index)` - Execute with monitoring\n",
    "- `overwrite_cell_source(index, source)` - Modify cell content\n",
    "- `delete_cell(index)` - Remove a cell\n",
    "\n",
    "## Real-time Collaboration\n",
    "\n",
    "This notebook supports real-time collaboration through Y.js CRDTs. Changes made by the MCP server will be visible immediately in this interface.\n"
   ]
  },
  {
   "cell_type": "markdown",
   "metadata": {},
   "source": [
    "# Jupyter MCP Server Demo\n",
    "\n",
    "This notebook demonstrates the **Jupyter MCP Server** - a Model Context Protocol server that enables AI agents to interact with Jupyter notebooks in real-time.\n",
    "\n",
    "## Available MCP Tools\n",
    "\n",
    "The MCP server provides the following tools for notebook interaction:\n",
    "\n",
    "1. **append_markdown_cell** - Add markdown cells to the notebook\n",
    "2. **insert_markdown_cell** - Insert markdown cells at specific positions  \n",
    "3. **append_execute_code_cell** - Add and execute code cells\n",
    "4. **insert_execute_code_cell** - Insert and execute code cells\n",
    "5. **overwrite_cell_source** - Modify existing cell content\n",
    "6. **read_all_cells** - Read all notebook cells\n",
    "7. **read_cell** - Read specific cells\n",
    "8. **get_notebook_info** - Get notebook metadata\n",
    "9. **delete_cell** - Remove cells from notebook\n",
    "10. **execute_cell_with_progress** - Execute cells with progress monitoring\n",
    "11. **execute_cell_simple_timeout** - Execute cells with timeout\n",
    "12. **execute_cell_streaming** - Execute cells with streaming output\n",
    "\n",
    "## Real-Time Collaboration\n",
    "\n",
    "This notebook supports **real-time collaboration** using Jupyter's Y.js CRDT technology. Multiple users can edit the notebook simultaneously, and the MCP server can interact with it while it's being edited.\n",
    "\n",
    "---\n",
    "\n",
    "*Ready for MCP tool demonstrations!*\n"
   ]
  },
  {
   "cell_type": "markdown",
   "metadata": {},
   "source": [
    "## MCP Server Test Results\n",
    "\n",
    "This cell was added by the MCP server! 🎉\n",
    "\n",
    "The server can:\n",
    "- ✅ Read notebook information and cell content\n",
    "- ✅ Add new markdown and code cells\n",
    "- ✅ Execute code with real-time output capture\n",
    "- ✅ List and discover all notebooks in workspace\n",
    "- ✅ Create new notebooks with automatic session creation\n",
    "- ✅ Switch context between different notebooks\n",
    "- ✅ Provide direct browser URLs for easy opening\n",
    "\n",
    "### 🚀 Enhanced Features:\n",
    "- **Workspace Discovery**: Find all .ipynb files automatically\n",
    "- **Smart Creation**: New notebooks + Jupyter sessions + MCP context switching\n",
    "- **Enhanced Opening**: Direct URLs with authentication tokens\n",
    "- **Full Manipulation**: Complete CRUD operations on notebook cells\n",
    "\n",
    "**Status**: All comprehensive notebook management requirements fulfilled! 🎯\n"
   ]
  },
  {
   "cell_type": "code",
   "execution_count": 1,
   "metadata": {},
   "outputs": [
    {
     "name": "stdout",
     "output_type": "stream",
     "text": [
      "🔬 MCP Server Execution Test\n",
      "⏰ Current time: 2025-07-21 12:46:16.311206\n",
      "🐍 Python version: 3.11.6\n",
      "💻 Platform: Linux 6.10.14-linuxkit\n",
      "📊 Generated sample data with 10 rows\n",
      "✅ MCP Server execution completed successfully!\n"
     ]
    }
   ],
   "source": [
    "\n",
    "# MCP Server Code Execution Demo\n",
    "import datetime\n",
    "import platform\n",
    "\n",
    "print(\"🔬 MCP Server Execution Test\")\n",
    "print(f\"⏰ Current time: {datetime.datetime.now()}\")\n",
    "print(f\"🐍 Python version: {platform.python_version()}\")\n",
    "print(f\"💻 Platform: {platform.system()} {platform.release()}\")\n",
    "\n",
    "# Generate some sample data to demonstrate capabilities\n",
    "import random\n",
    "data = [random.randint(1, 100) for _ in range(10)]\n",
    "print(f\"📊 Generated sample data with {len(data)} rows\")\n",
    "print(\"✅ MCP Server execution completed successfully!\")\n"
   ]
  },
  {
   "cell_type": "code",
   "execution_count": 2,
   "metadata": {},
   "outputs": [
    {
     "name": "stdout",
     "output_type": "stream",
     "text": [
      "🚀 Starting long-running task...\n",
      "⏳ Step 1/5: Processing...\n",
      "Generated sum: 4996858\n"
     ]
    },
    {
     "name": "stdout",
     "output_type": "stream",
     "text": [
      "⏳ Step 2/5: Processing...\n",
      "Generated sum: 4978333\n"
     ]
    },
    {
     "name": "stdout",
     "output_type": "stream",
     "text": [
      "⏳ Step 3/5: Processing...\n",
      "Generated sum: 5011133\n"
     ]
    },
    {
     "name": "stdout",
     "output_type": "stream",
     "text": [
      "⏳ Step 4/5: Processing...\n",
      "Generated sum: 4982790\n"
     ]
    },
    {
     "name": "stdout",
     "output_type": "stream",
     "text": [
      "⏳ Step 5/5: Processing...\n",
      "Generated sum: 5039188\n"
     ]
    },
    {
     "name": "stdout",
     "output_type": "stream",
     "text": [
      "🎯 Task completed successfully!\n"
     ]
    }
   ],
   "source": [
    "\n",
    "# Long-running task simulation\n",
    "import time\n",
    "import random\n",
    "\n",
    "print(\"🚀 Starting long-running task...\")\n",
    "\n",
    "for step in range(1, 6):\n",
    "    print(f\"⏳ Step {step}/5: Processing...\")\n",
    "    \n",
    "    # Simulate work with random computation\n",
    "    result = sum(random.randint(1, 1000) for _ in range(10000))\n",
    "    print(f\"Generated sum: {result}\")\n",
    "    \n",
    "    # Small delay to simulate work\n",
    "    time.sleep(1)\n",
    "\n",
    "print(\"🎯 Task completed successfully!\")\n"
   ]
  },
  {
   "cell_type": "markdown",
   "metadata": {},
   "source": [
    "## Markdown Cells\n",
    "# This works!"
   ]
  }
 ],
 "metadata": {
  "kernelspec": {
   "display_name": "Python 3 (ipykernel)",
   "language": "python",
   "name": "python3"
  },
  "language_info": {
   "codemirror_mode": {
    "name": "ipython",
    "version": 3
   },
   "file_extension": ".py",
   "mimetype": "text/x-python",
   "name": "python",
   "nbconvert_exporter": "python",
   "pygments_lexer": "ipython3",
   "version": "3.11.6"
  }
 },
 "nbformat": 4,
 "nbformat_minor": 4
}
